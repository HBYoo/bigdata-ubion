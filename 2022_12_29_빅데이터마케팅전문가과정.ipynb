{
  "nbformat": 4,
  "nbformat_minor": 0,
  "metadata": {
    "colab": {
      "provenance": [],
      "mount_file_id": "15GVDmDg81HAVIwQYdPlRmJJWeoPEEGqR",
      "authorship_tag": "ABX9TyMTh6YcpQqvGbkyYa+HDXI6",
      "include_colab_link": true
    },
    "kernelspec": {
      "name": "python3",
      "display_name": "Python 3"
    },
    "language_info": {
      "name": "python"
    }
  },
  "cells": [
    {
      "cell_type": "markdown",
      "metadata": {
        "id": "view-in-github",
        "colab_type": "text"
      },
      "source": [
        "<a href=\"https://colab.research.google.com/github/HBYoo/bigdata-ubion/blob/main/2022_12_29_%EB%B9%85%EB%8D%B0%EC%9D%B4%ED%84%B0%EB%A7%88%EC%BC%80%ED%8C%85%EC%A0%84%EB%AC%B8%EA%B0%80%EA%B3%BC%EC%A0%95.ipynb\" target=\"_parent\"><img src=\"https://colab.research.google.com/assets/colab-badge.svg\" alt=\"Open In Colab\"/></a>"
      ]
    },
    {
      "cell_type": "markdown",
      "source": [
        "\n",
        "\n",
        "##빅데이터 마케팅 전문가 과정\n",
        "####유한별\n",
        "####2022.12.29"
      ],
      "metadata": {
        "id": "IarKeMYHNPmw"
      }
    },
    {
      "cell_type": "code",
      "source": [],
      "metadata": {
        "id": "BdZTTango7Tb"
      },
      "execution_count": null,
      "outputs": []
    },
    {
      "cell_type": "markdown",
      "source": [
        "#파이썬 시작"
      ],
      "metadata": {
        "id": "PaZY4qfumeaT"
      }
    },
    {
      "cell_type": "code",
      "execution_count": 1,
      "metadata": {
        "colab": {
          "base_uri": "https://localhost:8080/"
        },
        "id": "WUi4wl6fMlcf",
        "outputId": "352d9d51-b767-4b91-d67a-4b5895c15c78"
      },
      "outputs": [
        {
          "output_type": "stream",
          "name": "stdout",
          "text": [
            "Hello world!\n"
          ]
        }
      ],
      "source": [
        "print(\"Hello world!\")"
      ]
    },
    {
      "cell_type": "code",
      "source": [
        "a = \"python\""
      ],
      "metadata": {
        "id": "0UdASd6vNGZr"
      },
      "execution_count": 2,
      "outputs": []
    },
    {
      "cell_type": "code",
      "source": [
        "a"
      ],
      "metadata": {
        "colab": {
          "base_uri": "https://localhost:8080/",
          "height": 35
        },
        "id": "7pz9UNoSOyic",
        "outputId": "2ecdd4a6-d1b8-44eb-e360-da645f147247"
      },
      "execution_count": 3,
      "outputs": [
        {
          "output_type": "execute_result",
          "data": {
            "text/plain": [
              "'python'"
            ],
            "application/vnd.google.colaboratory.intrinsic+json": {
              "type": "string"
            }
          },
          "metadata": {},
          "execution_count": 3
        }
      ]
    },
    {
      "cell_type": "code",
      "source": [
        "print(a)"
      ],
      "metadata": {
        "colab": {
          "base_uri": "https://localhost:8080/"
        },
        "id": "6BZKrYKXPU7o",
        "outputId": "a8f0f40e-ff1c-4e97-bc34-efb90e618b2d"
      },
      "execution_count": 4,
      "outputs": [
        {
          "output_type": "stream",
          "name": "stdout",
          "text": [
            "python\n"
          ]
        }
      ]
    },
    {
      "cell_type": "code",
      "source": [
        "del a # 변수 지우기"
      ],
      "metadata": {
        "id": "KPZfW6W7M_FB"
      },
      "execution_count": 5,
      "outputs": []
    },
    {
      "cell_type": "code",
      "source": [
        "print(a)"
      ],
      "metadata": {
        "colab": {
          "base_uri": "https://localhost:8080/",
          "height": 171
        },
        "id": "RmWV-8AxP4sG",
        "outputId": "efe5d764-b980-4b4a-9323-5dad101feab1"
      },
      "execution_count": 6,
      "outputs": [
        {
          "output_type": "error",
          "ename": "NameError",
          "evalue": "ignored",
          "traceback": [
            "\u001b[0;31m---------------------------------------------------------------------------\u001b[0m",
            "\u001b[0;31mNameError\u001b[0m                                 Traceback (most recent call last)",
            "\u001b[0;32m<ipython-input-6-bca0e2660b9f>\u001b[0m in \u001b[0;36m<module>\u001b[0;34m\u001b[0m\n\u001b[0;32m----> 1\u001b[0;31m \u001b[0mprint\u001b[0m\u001b[0;34m(\u001b[0m\u001b[0ma\u001b[0m\u001b[0;34m)\u001b[0m\u001b[0;34m\u001b[0m\u001b[0;34m\u001b[0m\u001b[0m\n\u001b[0m",
            "\u001b[0;31mNameError\u001b[0m: name 'a' is not defined"
          ]
        }
      ]
    },
    {
      "cell_type": "code",
      "source": [],
      "metadata": {
        "id": "YhGK548ToDo4"
      },
      "execution_count": null,
      "outputs": []
    },
    {
      "cell_type": "code",
      "source": [
        "a = 2"
      ],
      "metadata": {
        "id": "iJHS9dxCQFxB"
      },
      "execution_count": 7,
      "outputs": []
    },
    {
      "cell_type": "code",
      "source": [
        "print(a)"
      ],
      "metadata": {
        "id": "cJnX5q8YQXK9",
        "colab": {
          "base_uri": "https://localhost:8080/"
        },
        "outputId": "f2faed93-e76a-47e7-c11c-d4e7fcfeee45"
      },
      "execution_count": 8,
      "outputs": [
        {
          "output_type": "stream",
          "name": "stdout",
          "text": [
            "2\n"
          ]
        }
      ]
    },
    {
      "cell_type": "code",
      "source": [
        "b = 4"
      ],
      "metadata": {
        "id": "9uHtrVhzQix4"
      },
      "execution_count": 9,
      "outputs": []
    },
    {
      "cell_type": "code",
      "source": [
        "print(b)"
      ],
      "metadata": {
        "id": "eB1LPEriQlUG",
        "colab": {
          "base_uri": "https://localhost:8080/"
        },
        "outputId": "5b69533c-969e-4ae6-efad-5fa9f153de18"
      },
      "execution_count": 10,
      "outputs": [
        {
          "output_type": "stream",
          "name": "stdout",
          "text": [
            "4\n"
          ]
        }
      ]
    },
    {
      "cell_type": "code",
      "source": [
        "print(a+b)"
      ],
      "metadata": {
        "id": "olTEBw5OQuQv",
        "colab": {
          "base_uri": "https://localhost:8080/"
        },
        "outputId": "b71e2f70-d6dd-4216-c795-06b232a58c07"
      },
      "execution_count": 11,
      "outputs": [
        {
          "output_type": "stream",
          "name": "stdout",
          "text": [
            "6\n"
          ]
        }
      ]
    },
    {
      "cell_type": "code",
      "source": [
        "a*b"
      ],
      "metadata": {
        "id": "C3EbKek3QyFw",
        "colab": {
          "base_uri": "https://localhost:8080/"
        },
        "outputId": "438b57d7-b8ba-420e-bf51-db543525f02c"
      },
      "execution_count": 12,
      "outputs": [
        {
          "output_type": "execute_result",
          "data": {
            "text/plain": [
              "8"
            ]
          },
          "metadata": {},
          "execution_count": 12
        }
      ]
    },
    {
      "cell_type": "code",
      "source": [
        "a-b"
      ],
      "metadata": {
        "id": "tdZqkuZJQ-tW",
        "colab": {
          "base_uri": "https://localhost:8080/"
        },
        "outputId": "efb23f1a-c1f5-4ad3-89f3-f34f96f9a454"
      },
      "execution_count": 13,
      "outputs": [
        {
          "output_type": "execute_result",
          "data": {
            "text/plain": [
              "-2"
            ]
          },
          "metadata": {},
          "execution_count": 13
        }
      ]
    },
    {
      "cell_type": "code",
      "source": [
        "a/b"
      ],
      "metadata": {
        "id": "G2p_XLFbRAmm",
        "colab": {
          "base_uri": "https://localhost:8080/"
        },
        "outputId": "6aef60d4-1070-4ef4-bf2f-83c2a9503f93"
      },
      "execution_count": 14,
      "outputs": [
        {
          "output_type": "execute_result",
          "data": {
            "text/plain": [
              "0.5"
            ]
          },
          "metadata": {},
          "execution_count": 14
        }
      ]
    },
    {
      "cell_type": "code",
      "source": [
        "a = 123"
      ],
      "metadata": {
        "id": "I5P-g9bxRNm8"
      },
      "execution_count": 15,
      "outputs": []
    },
    {
      "cell_type": "code",
      "source": [
        "type(a)"
      ],
      "metadata": {
        "id": "yIfdj3xsRUxz",
        "colab": {
          "base_uri": "https://localhost:8080/"
        },
        "outputId": "082f3bd7-58f1-473c-c723-8af6d376a184"
      },
      "execution_count": 16,
      "outputs": [
        {
          "output_type": "execute_result",
          "data": {
            "text/plain": [
              "int"
            ]
          },
          "metadata": {},
          "execution_count": 16
        }
      ]
    },
    {
      "cell_type": "code",
      "source": [
        "b = 123.1"
      ],
      "metadata": {
        "id": "YphlO8kIRd4o"
      },
      "execution_count": 17,
      "outputs": []
    },
    {
      "cell_type": "code",
      "source": [
        "type(b)"
      ],
      "metadata": {
        "id": "76dTjO22Rg0J",
        "colab": {
          "base_uri": "https://localhost:8080/"
        },
        "outputId": "9a0a5909-f324-4786-bfde-48967a5955b5"
      },
      "execution_count": 18,
      "outputs": [
        {
          "output_type": "execute_result",
          "data": {
            "text/plain": [
              "float"
            ]
          },
          "metadata": {},
          "execution_count": 18
        }
      ]
    },
    {
      "cell_type": "code",
      "source": [
        "c = a+b"
      ],
      "metadata": {
        "id": "-dk28J59Ro_8"
      },
      "execution_count": 19,
      "outputs": []
    },
    {
      "cell_type": "code",
      "source": [
        "c"
      ],
      "metadata": {
        "id": "iOEe29RFRrU-",
        "colab": {
          "base_uri": "https://localhost:8080/"
        },
        "outputId": "23ae366a-37df-4c44-c82e-fe1afae0ea55"
      },
      "execution_count": 20,
      "outputs": [
        {
          "output_type": "execute_result",
          "data": {
            "text/plain": [
              "246.1"
            ]
          },
          "metadata": {},
          "execution_count": 20
        }
      ]
    },
    {
      "cell_type": "code",
      "source": [
        "type(c)"
      ],
      "metadata": {
        "id": "6PWJS6L7RtVV",
        "colab": {
          "base_uri": "https://localhost:8080/"
        },
        "outputId": "6ae952c7-1dc1-4a85-e169-dc8fe71affc6"
      },
      "execution_count": 21,
      "outputs": [
        {
          "output_type": "execute_result",
          "data": {
            "text/plain": [
              "float"
            ]
          },
          "metadata": {},
          "execution_count": 21
        }
      ]
    },
    {
      "cell_type": "code",
      "source": [
        "type(int(c))"
      ],
      "metadata": {
        "id": "rgr5XlgVRwbY",
        "colab": {
          "base_uri": "https://localhost:8080/"
        },
        "outputId": "3a932362-8b5c-4c66-9995-e2bbe05d2feb"
      },
      "execution_count": 22,
      "outputs": [
        {
          "output_type": "execute_result",
          "data": {
            "text/plain": [
              "int"
            ]
          },
          "metadata": {},
          "execution_count": 22
        }
      ]
    },
    {
      "cell_type": "code",
      "source": [
        "d = \"python\""
      ],
      "metadata": {
        "id": "x3aRBp_FR_In"
      },
      "execution_count": 23,
      "outputs": []
    },
    {
      "cell_type": "code",
      "source": [
        "type(d)"
      ],
      "metadata": {
        "id": "HdCtG2eISB84",
        "colab": {
          "base_uri": "https://localhost:8080/"
        },
        "outputId": "9f3f99d2-832a-4845-a474-f87701a2ae5f"
      },
      "execution_count": 24,
      "outputs": [
        {
          "output_type": "execute_result",
          "data": {
            "text/plain": [
              "str"
            ]
          },
          "metadata": {},
          "execution_count": 24
        }
      ]
    },
    {
      "cell_type": "code",
      "source": [
        "3**20"
      ],
      "metadata": {
        "id": "syIf7pqQSUom",
        "colab": {
          "base_uri": "https://localhost:8080/"
        },
        "outputId": "8cdc3109-dc35-488c-bddc-a1c5aba6acbd"
      },
      "execution_count": 25,
      "outputs": [
        {
          "output_type": "execute_result",
          "data": {
            "text/plain": [
              "3486784401"
            ]
          },
          "metadata": {},
          "execution_count": 25
        }
      ]
    },
    {
      "cell_type": "code",
      "source": [
        "3**0.5"
      ],
      "metadata": {
        "id": "pI3k5zNxSkDI",
        "colab": {
          "base_uri": "https://localhost:8080/"
        },
        "outputId": "a97ff946-d242-49ba-c24d-57ccbbf49990"
      },
      "execution_count": 26,
      "outputs": [
        {
          "output_type": "execute_result",
          "data": {
            "text/plain": [
              "1.7320508075688772"
            ]
          },
          "metadata": {},
          "execution_count": 26
        }
      ]
    },
    {
      "cell_type": "code",
      "source": [
        "13/4"
      ],
      "metadata": {
        "id": "gN7QTpYUS375",
        "colab": {
          "base_uri": "https://localhost:8080/"
        },
        "outputId": "3901b199-73cc-473f-cbf8-9cc4e323b863"
      },
      "execution_count": 27,
      "outputs": [
        {
          "output_type": "execute_result",
          "data": {
            "text/plain": [
              "3.25"
            ]
          },
          "metadata": {},
          "execution_count": 27
        }
      ]
    },
    {
      "cell_type": "code",
      "source": [
        "13//4"
      ],
      "metadata": {
        "id": "tuMP5DoES6aG",
        "colab": {
          "base_uri": "https://localhost:8080/"
        },
        "outputId": "714e770e-eadd-4986-cd15-f6f6bc6b3c8d"
      },
      "execution_count": 28,
      "outputs": [
        {
          "output_type": "execute_result",
          "data": {
            "text/plain": [
              "3"
            ]
          },
          "metadata": {},
          "execution_count": 28
        }
      ]
    },
    {
      "cell_type": "code",
      "source": [
        "13%4"
      ],
      "metadata": {
        "id": "_JrxyCixTBXg",
        "colab": {
          "base_uri": "https://localhost:8080/"
        },
        "outputId": "5783bab7-1d1e-4319-fd9e-04709a872618"
      },
      "execution_count": 29,
      "outputs": [
        {
          "output_type": "execute_result",
          "data": {
            "text/plain": [
              "1"
            ]
          },
          "metadata": {},
          "execution_count": 29
        }
      ]
    },
    {
      "cell_type": "code",
      "source": [
        "print(\"ubion's the best.\")"
      ],
      "metadata": {
        "id": "mN1FpLkdTZIi",
        "colab": {
          "base_uri": "https://localhost:8080/"
        },
        "outputId": "ab93bfb4-ea34-4aec-e2ba-b10d5f3d8765"
      },
      "execution_count": 30,
      "outputs": [
        {
          "output_type": "stream",
          "name": "stdout",
          "text": [
            "ubion's the best.\n"
          ]
        }
      ]
    },
    {
      "cell_type": "code",
      "source": [
        "print(\"ubion isn't the best\")"
      ],
      "metadata": {
        "id": "c_mlAi6oTr3U",
        "colab": {
          "base_uri": "https://localhost:8080/"
        },
        "outputId": "01d8e881-6500-4295-b0e1-3f4eee042f38"
      },
      "execution_count": 31,
      "outputs": [
        {
          "output_type": "stream",
          "name": "stdout",
          "text": [
            "ubion isn't the best\n"
          ]
        }
      ]
    },
    {
      "cell_type": "code",
      "source": [
        "print('ubion is the best')"
      ],
      "metadata": {
        "id": "ond8jrrTUAh7",
        "colab": {
          "base_uri": "https://localhost:8080/"
        },
        "outputId": "8840a313-5fed-4071-f894-beae72680f74"
      },
      "execution_count": 32,
      "outputs": [
        {
          "output_type": "stream",
          "name": "stdout",
          "text": [
            "ubion is the best\n"
          ]
        }
      ]
    },
    {
      "cell_type": "code",
      "source": [
        "print('ubion isn't the best')"
      ],
      "metadata": {
        "id": "6fk6kXOnT2Mw",
        "colab": {
          "base_uri": "https://localhost:8080/",
          "height": 136
        },
        "outputId": "9c2c0738-024f-4d3d-e049-e43d7af01d86"
      },
      "execution_count": 34,
      "outputs": [
        {
          "output_type": "error",
          "ename": "SyntaxError",
          "evalue": "ignored",
          "traceback": [
            "\u001b[0;36m  File \u001b[0;32m\"<ipython-input-34-f1ddf374edff>\"\u001b[0;36m, line \u001b[0;32m1\u001b[0m\n\u001b[0;31m    print('ubion isn't the best')\u001b[0m\n\u001b[0m                     ^\u001b[0m\n\u001b[0;31mSyntaxError\u001b[0m\u001b[0;31m:\u001b[0m invalid syntax\n"
          ]
        }
      ]
    },
    {
      "cell_type": "code",
      "source": [
        "print('ubion is the best. \\nubion isn\\'t the best')"
      ],
      "metadata": {
        "id": "MQ93YNFuUe-V",
        "colab": {
          "base_uri": "https://localhost:8080/"
        },
        "outputId": "33e0fb07-4b97-4111-d3fc-7241b82e49fd"
      },
      "execution_count": 36,
      "outputs": [
        {
          "output_type": "stream",
          "name": "stdout",
          "text": [
            "ubion is the best. \n",
            "ubion isn't the best\n"
          ]
        }
      ]
    },
    {
      "cell_type": "code",
      "source": [
        "a = \"Ubion is the best.\"\n",
        "b = \" Ubion isn't the best.\"\n",
        "ubion = a+b\n",
        "print(ubion)"
      ],
      "metadata": {
        "id": "lNUFYQEvUngh",
        "colab": {
          "base_uri": "https://localhost:8080/"
        },
        "outputId": "37b471e3-5a7b-455b-a91a-490774e8cb7c"
      },
      "execution_count": 37,
      "outputs": [
        {
          "output_type": "stream",
          "name": "stdout",
          "text": [
            "Ubion is the best. Ubion isn't the best.\n"
          ]
        }
      ]
    },
    {
      "cell_type": "code",
      "source": [
        "a*20"
      ],
      "metadata": {
        "id": "snOGrP_cVrqG",
        "colab": {
          "base_uri": "https://localhost:8080/",
          "height": 107
        },
        "outputId": "a156483d-7a33-45eb-f456-e60a0582682c"
      },
      "execution_count": 38,
      "outputs": [
        {
          "output_type": "execute_result",
          "data": {
            "text/plain": [
              "'Ubion is the best.Ubion is the best.Ubion is the best.Ubion is the best.Ubion is the best.Ubion is the best.Ubion is the best.Ubion is the best.Ubion is the best.Ubion is the best.Ubion is the best.Ubion is the best.Ubion is the best.Ubion is the best.Ubion is the best.Ubion is the best.Ubion is the best.Ubion is the best.Ubion is the best.Ubion is the best.'"
            ],
            "application/vnd.google.colaboratory.intrinsic+json": {
              "type": "string"
            }
          },
          "metadata": {},
          "execution_count": 38
        }
      ]
    },
    {
      "cell_type": "code",
      "source": [
        "print(\"-\"*40)\n",
        "print(a*2)\n",
        "print(\"-\"*40)\n",
        "\n",
        "#유비온은 최고의 교육기관이다."
      ],
      "metadata": {
        "id": "UKVPVSziZdMY",
        "colab": {
          "base_uri": "https://localhost:8080/"
        },
        "outputId": "caffc1e7-9f52-4fb7-b5da-a8f7f654b858"
      },
      "execution_count": 39,
      "outputs": [
        {
          "output_type": "stream",
          "name": "stdout",
          "text": [
            "----------------------------------------\n",
            "Ubion is the best.Ubion is the best.\n",
            "----------------------------------------\n"
          ]
        }
      ]
    },
    {
      "cell_type": "code",
      "source": [
        "\"유비온은 최고의 교육기관이다.\"[0:3]\n",
        "#[a(행):b(열)] : a<= x <b\n",
        "# a보다 크거나 같고, b보다 작은 인덱스를 꺼내온다."
      ],
      "metadata": {
        "id": "y6_M7INnaJQh",
        "colab": {
          "base_uri": "https://localhost:8080/",
          "height": 35
        },
        "outputId": "734e1d16-63bf-4e2a-c56d-b8a6f01c653b"
      },
      "execution_count": 40,
      "outputs": [
        {
          "output_type": "execute_result",
          "data": {
            "text/plain": [
              "'유비온'"
            ],
            "application/vnd.google.colaboratory.intrinsic+json": {
              "type": "string"
            }
          },
          "metadata": {},
          "execution_count": 40
        }
      ]
    },
    {
      "cell_type": "code",
      "source": [
        "\"유비온은 최고의 교육기관이다.\"[-2]"
      ],
      "metadata": {
        "id": "LfA8WmV3ctGH",
        "colab": {
          "base_uri": "https://localhost:8080/",
          "height": 35
        },
        "outputId": "b0466659-882c-43ef-e967-fb9648c031d5"
      },
      "execution_count": 41,
      "outputs": [
        {
          "output_type": "execute_result",
          "data": {
            "text/plain": [
              "'다'"
            ],
            "application/vnd.google.colaboratory.intrinsic+json": {
              "type": "string"
            }
          },
          "metadata": {},
          "execution_count": 41
        }
      ]
    },
    {
      "cell_type": "code",
      "source": [
        "first_name = \"Hanbyeol Yoo\"[:8]\n",
        "print(first_name)"
      ],
      "metadata": {
        "id": "1_-BkBzTd3A7",
        "colab": {
          "base_uri": "https://localhost:8080/"
        },
        "outputId": "fe6c22ec-f3f7-481e-a66b-e91e1bb4922c"
      },
      "execution_count": 42,
      "outputs": [
        {
          "output_type": "stream",
          "name": "stdout",
          "text": [
            "Hanbyeol\n"
          ]
        }
      ]
    },
    {
      "cell_type": "code",
      "source": [
        "first_name = \"Hanbyeol Yoo\"[-4:-1]"
      ],
      "metadata": {
        "id": "W7v5FySKgKjt"
      },
      "execution_count": 43,
      "outputs": []
    },
    {
      "cell_type": "code",
      "source": [
        "first_name "
      ],
      "metadata": {
        "id": "J1ngvc6EgVoW",
        "colab": {
          "base_uri": "https://localhost:8080/",
          "height": 35
        },
        "outputId": "af3c24a5-8f9d-4859-d274-c5833df0922f"
      },
      "execution_count": 44,
      "outputs": [
        {
          "output_type": "execute_result",
          "data": {
            "text/plain": [
              "' Yo'"
            ],
            "application/vnd.google.colaboratory.intrinsic+json": {
              "type": "string"
            }
          },
          "metadata": {},
          "execution_count": 44
        }
      ]
    },
    {
      "cell_type": "code",
      "source": [
        "last_name = \"Hanbyeol Yoo\"[9:]\n",
        "print(last_name)"
      ],
      "metadata": {
        "id": "NjKqKrK7eitG",
        "colab": {
          "base_uri": "https://localhost:8080/"
        },
        "outputId": "017bb90f-58e2-43f8-861c-bffb633a8853"
      },
      "execution_count": 45,
      "outputs": [
        {
          "output_type": "stream",
          "name": "stdout",
          "text": [
            "Yoo\n"
          ]
        }
      ]
    },
    {
      "cell_type": "code",
      "source": [
        "name = \"Hanbyeol Yoo\"\n",
        "len(name)"
      ],
      "metadata": {
        "id": "rkos3n9selOR",
        "colab": {
          "base_uri": "https://localhost:8080/"
        },
        "outputId": "08321e05-3b77-4a6c-91f3-f97423ec5c63"
      },
      "execution_count": 46,
      "outputs": [
        {
          "output_type": "execute_result",
          "data": {
            "text/plain": [
              "12"
            ]
          },
          "metadata": {},
          "execution_count": 46
        }
      ]
    },
    {
      "cell_type": "code",
      "source": [
        "name.count(\"o\")"
      ],
      "metadata": {
        "id": "f3_9Qdlzg_BG",
        "colab": {
          "base_uri": "https://localhost:8080/"
        },
        "outputId": "c425a4ba-204a-4686-b197-a6b48fadb494"
      },
      "execution_count": 47,
      "outputs": [
        {
          "output_type": "execute_result",
          "data": {
            "text/plain": [
              "3"
            ]
          },
          "metadata": {},
          "execution_count": 47
        }
      ]
    },
    {
      "cell_type": "code",
      "source": [
        "a = \" \"\n",
        "a.join(\"HanbyeolYoo\")"
      ],
      "metadata": {
        "id": "c8UknjAsh5xj",
        "colab": {
          "base_uri": "https://localhost:8080/",
          "height": 35
        },
        "outputId": "6c20120d-752b-40e7-c81d-55b0292c1cfe"
      },
      "execution_count": 48,
      "outputs": [
        {
          "output_type": "execute_result",
          "data": {
            "text/plain": [
              "'H a n b y e o l Y o o'"
            ],
            "application/vnd.google.colaboratory.intrinsic+json": {
              "type": "string"
            }
          },
          "metadata": {},
          "execution_count": 48
        }
      ]
    },
    {
      "cell_type": "code",
      "source": [
        "name.upper()"
      ],
      "metadata": {
        "id": "G4iA7ynxiZkz",
        "colab": {
          "base_uri": "https://localhost:8080/",
          "height": 35
        },
        "outputId": "dc98a7fe-2561-4b3d-d4c2-d4a1d59c4df5"
      },
      "execution_count": 49,
      "outputs": [
        {
          "output_type": "execute_result",
          "data": {
            "text/plain": [
              "'HANBYEOL YOO'"
            ],
            "application/vnd.google.colaboratory.intrinsic+json": {
              "type": "string"
            }
          },
          "metadata": {},
          "execution_count": 49
        }
      ]
    },
    {
      "cell_type": "code",
      "source": [
        "name.lower()"
      ],
      "metadata": {
        "id": "ouQMjOdpiaRo",
        "colab": {
          "base_uri": "https://localhost:8080/",
          "height": 35
        },
        "outputId": "f032159a-6b69-4e04-8284-6282b4c96cfb"
      },
      "execution_count": 50,
      "outputs": [
        {
          "output_type": "execute_result",
          "data": {
            "text/plain": [
              "'hanbyeol yoo'"
            ],
            "application/vnd.google.colaboratory.intrinsic+json": {
              "type": "string"
            }
          },
          "metadata": {},
          "execution_count": 50
        }
      ]
    },
    {
      "cell_type": "code",
      "source": [
        "name = \" Hanbyeol Yoo \"\n",
        "name"
      ],
      "metadata": {
        "id": "rcGDQEhPmcCG",
        "colab": {
          "base_uri": "https://localhost:8080/",
          "height": 35
        },
        "outputId": "143d9995-0756-4d84-c8da-8f93d642ce2e"
      },
      "execution_count": 51,
      "outputs": [
        {
          "output_type": "execute_result",
          "data": {
            "text/plain": [
              "' Hanbyeol Yoo '"
            ],
            "application/vnd.google.colaboratory.intrinsic+json": {
              "type": "string"
            }
          },
          "metadata": {},
          "execution_count": 51
        }
      ]
    },
    {
      "cell_type": "code",
      "source": [
        "name.strip(a)"
      ],
      "metadata": {
        "id": "FsULVVuZm07p",
        "colab": {
          "base_uri": "https://localhost:8080/",
          "height": 35
        },
        "outputId": "61bc1e4d-01bb-4a48-92a7-6899fa26bce6"
      },
      "execution_count": 52,
      "outputs": [
        {
          "output_type": "execute_result",
          "data": {
            "text/plain": [
              "'Hanbyeol Yoo'"
            ],
            "application/vnd.google.colaboratory.intrinsic+json": {
              "type": "string"
            }
          },
          "metadata": {},
          "execution_count": 52
        }
      ]
    },
    {
      "cell_type": "code",
      "source": [
        "name.lstrip(a)"
      ],
      "metadata": {
        "id": "hsv2NW_dnRZ0",
        "colab": {
          "base_uri": "https://localhost:8080/",
          "height": 35
        },
        "outputId": "bc49ba66-4a4e-4869-c70f-3a12ba4e9992"
      },
      "execution_count": 53,
      "outputs": [
        {
          "output_type": "execute_result",
          "data": {
            "text/plain": [
              "'Hanbyeol Yoo '"
            ],
            "application/vnd.google.colaboratory.intrinsic+json": {
              "type": "string"
            }
          },
          "metadata": {},
          "execution_count": 53
        }
      ]
    },
    {
      "cell_type": "code",
      "source": [
        "name.rstrip(a)"
      ],
      "metadata": {
        "id": "lOGdwylFnWhK",
        "colab": {
          "base_uri": "https://localhost:8080/",
          "height": 35
        },
        "outputId": "2a212e2e-a696-4b6f-b148-712aa18dda59"
      },
      "execution_count": 54,
      "outputs": [
        {
          "output_type": "execute_result",
          "data": {
            "text/plain": [
              "' Hanbyeol Yoo'"
            ],
            "application/vnd.google.colaboratory.intrinsic+json": {
              "type": "string"
            }
          },
          "metadata": {},
          "execution_count": 54
        }
      ]
    },
    {
      "cell_type": "code",
      "source": [
        "name.replace(\"Yoo\", \"Choi\")"
      ],
      "metadata": {
        "id": "evSBUDv4ngxZ",
        "colab": {
          "base_uri": "https://localhost:8080/",
          "height": 35
        },
        "outputId": "215c6f39-105e-4b27-90cd-43fb4e8f5ea7"
      },
      "execution_count": 55,
      "outputs": [
        {
          "output_type": "execute_result",
          "data": {
            "text/plain": [
              "' Hanbyeol Choi '"
            ],
            "application/vnd.google.colaboratory.intrinsic+json": {
              "type": "string"
            }
          },
          "metadata": {},
          "execution_count": 55
        }
      ]
    },
    {
      "cell_type": "code",
      "source": [
        "name.split()"
      ],
      "metadata": {
        "id": "jsT0E6F6oGoD",
        "colab": {
          "base_uri": "https://localhost:8080/"
        },
        "outputId": "6cd89009-eac6-4fef-87af-a2a57f8687a1"
      },
      "execution_count": 56,
      "outputs": [
        {
          "output_type": "execute_result",
          "data": {
            "text/plain": [
              "['Hanbyeol', 'Yoo']"
            ]
          },
          "metadata": {},
          "execution_count": 56
        }
      ]
    },
    {
      "cell_type": "code",
      "source": [
        "ubion = \"Ubion is the best.Ubion is the best.Ubion is the best.Ubion is the best.Ubion is the best.Ubion is the best.Ubion is the best.Ubion is the best.Ubion is the best.Ubion is the best.Ubion is the best.Ubion is the best.Ubion is the best.Ubion is the best.Ubion is the best.Ubion is the best.Ubion is the best.Ubion is the best.Ubion is the best.Ubion is the best.\""
      ],
      "metadata": {
        "id": "Dz4VWIx3oVJ0"
      },
      "execution_count": 57,
      "outputs": []
    },
    {
      "cell_type": "code",
      "source": [
        "ubion.split(\".\")"
      ],
      "metadata": {
        "id": "2Rw4As15oYln",
        "colab": {
          "base_uri": "https://localhost:8080/"
        },
        "outputId": "52cb87a2-7080-474e-a6a2-c9616bb2218b"
      },
      "execution_count": 58,
      "outputs": [
        {
          "output_type": "execute_result",
          "data": {
            "text/plain": [
              "['Ubion is the best',\n",
              " 'Ubion is the best',\n",
              " 'Ubion is the best',\n",
              " 'Ubion is the best',\n",
              " 'Ubion is the best',\n",
              " 'Ubion is the best',\n",
              " 'Ubion is the best',\n",
              " 'Ubion is the best',\n",
              " 'Ubion is the best',\n",
              " 'Ubion is the best',\n",
              " 'Ubion is the best',\n",
              " 'Ubion is the best',\n",
              " 'Ubion is the best',\n",
              " 'Ubion is the best',\n",
              " 'Ubion is the best',\n",
              " 'Ubion is the best',\n",
              " 'Ubion is the best',\n",
              " 'Ubion is the best',\n",
              " 'Ubion is the best',\n",
              " 'Ubion is the best',\n",
              " '']"
            ]
          },
          "metadata": {},
          "execution_count": 58
        }
      ]
    },
    {
      "cell_type": "code",
      "source": [
        "article1 = \"코로나19 확진자가 급증하는 중국이 내달 8일부터 자국민의 출국 제한을 완화하기로 하면서, 미국·일본·인도 등이 중국발 여행객에 대한 방역 강화에 나서고 있다.\""
      ],
      "metadata": {
        "id": "w5e-E7xnowx1"
      },
      "execution_count": 59,
      "outputs": []
    },
    {
      "cell_type": "code",
      "source": [
        "article1.split()"
      ],
      "metadata": {
        "id": "iUW-us-Mo8vf",
        "colab": {
          "base_uri": "https://localhost:8080/"
        },
        "outputId": "62444f92-4d74-4946-a974-98aeb2f5d51c"
      },
      "execution_count": 60,
      "outputs": [
        {
          "output_type": "execute_result",
          "data": {
            "text/plain": [
              "['코로나19',\n",
              " '확진자가',\n",
              " '급증하는',\n",
              " '중국이',\n",
              " '내달',\n",
              " '8일부터',\n",
              " '자국민의',\n",
              " '출국',\n",
              " '제한을',\n",
              " '완화하기로',\n",
              " '하면서,',\n",
              " '미국·일본·인도',\n",
              " '등이',\n",
              " '중국발',\n",
              " '여행객에',\n",
              " '대한',\n",
              " '방역',\n",
              " '강화에',\n",
              " '나서고',\n",
              " '있다.']"
            ]
          },
          "metadata": {},
          "execution_count": 60
        }
      ]
    },
    {
      "cell_type": "code",
      "source": [
        "a = [1,2,3,4,5]\n",
        "a"
      ],
      "metadata": {
        "id": "8DZN1UcLpI3f",
        "colab": {
          "base_uri": "https://localhost:8080/"
        },
        "outputId": "8658c923-e858-407d-9702-07a97035681d"
      },
      "execution_count": 61,
      "outputs": [
        {
          "output_type": "execute_result",
          "data": {
            "text/plain": [
              "[1, 2, 3, 4, 5]"
            ]
          },
          "metadata": {},
          "execution_count": 61
        }
      ]
    },
    {
      "cell_type": "code",
      "source": [
        "type(a)"
      ],
      "metadata": {
        "id": "p300iN7bqlPG",
        "colab": {
          "base_uri": "https://localhost:8080/"
        },
        "outputId": "53f0b76e-2cba-4ec0-b5c4-8903133f00cf"
      },
      "execution_count": 62,
      "outputs": [
        {
          "output_type": "execute_result",
          "data": {
            "text/plain": [
              "list"
            ]
          },
          "metadata": {},
          "execution_count": 62
        }
      ]
    },
    {
      "cell_type": "code",
      "source": [
        "b = (1,2,3,4,5)\n",
        "b"
      ],
      "metadata": {
        "id": "ZrkxAaDhqqby",
        "colab": {
          "base_uri": "https://localhost:8080/"
        },
        "outputId": "bd960747-25c1-49bd-9167-2843d600223b"
      },
      "execution_count": 63,
      "outputs": [
        {
          "output_type": "execute_result",
          "data": {
            "text/plain": [
              "(1, 2, 3, 4, 5)"
            ]
          },
          "metadata": {},
          "execution_count": 63
        }
      ]
    },
    {
      "cell_type": "code",
      "source": [
        "type(b)"
      ],
      "metadata": {
        "id": "qazmviPpq1PK",
        "colab": {
          "base_uri": "https://localhost:8080/"
        },
        "outputId": "d26fcdeb-55e1-4351-c10a-9465fee0c196"
      },
      "execution_count": 64,
      "outputs": [
        {
          "output_type": "execute_result",
          "data": {
            "text/plain": [
              "tuple"
            ]
          },
          "metadata": {},
          "execution_count": 64
        }
      ]
    },
    {
      "cell_type": "code",
      "source": [
        "a.replace(3,4)\n",
        "a"
      ],
      "metadata": {
        "id": "8mtn_RfWq9uv",
        "colab": {
          "base_uri": "https://localhost:8080/",
          "height": 189
        },
        "outputId": "68ca6121-b1b1-48ce-f945-6f80d8ab9ad5"
      },
      "execution_count": 65,
      "outputs": [
        {
          "output_type": "error",
          "ename": "AttributeError",
          "evalue": "ignored",
          "traceback": [
            "\u001b[0;31m---------------------------------------------------------------------------\u001b[0m",
            "\u001b[0;31mAttributeError\u001b[0m                            Traceback (most recent call last)",
            "\u001b[0;32m<ipython-input-65-c64051c435cf>\u001b[0m in \u001b[0;36m<module>\u001b[0;34m\u001b[0m\n\u001b[0;32m----> 1\u001b[0;31m \u001b[0ma\u001b[0m\u001b[0;34m.\u001b[0m\u001b[0mreplace\u001b[0m\u001b[0;34m(\u001b[0m\u001b[0;36m3\u001b[0m\u001b[0;34m,\u001b[0m\u001b[0;36m4\u001b[0m\u001b[0;34m)\u001b[0m\u001b[0;34m\u001b[0m\u001b[0;34m\u001b[0m\u001b[0m\n\u001b[0m\u001b[1;32m      2\u001b[0m \u001b[0ma\u001b[0m\u001b[0;34m\u001b[0m\u001b[0;34m\u001b[0m\u001b[0m\n",
            "\u001b[0;31mAttributeError\u001b[0m: 'list' object has no attribute 'replace'"
          ]
        }
      ]
    },
    {
      "cell_type": "code",
      "source": [
        "b.replace(3,4)\n",
        "b"
      ],
      "metadata": {
        "id": "WmCc-FxwrEOv"
      },
      "execution_count": null,
      "outputs": []
    },
    {
      "cell_type": "code",
      "source": [
        "a = [1,2,3,4,5]\n",
        "b = [\"1\",\"2\",\"3\"]\n",
        "a+b"
      ],
      "metadata": {
        "id": "AyzIPnXqrXbH",
        "colab": {
          "base_uri": "https://localhost:8080/"
        },
        "outputId": "a72f4625-659c-4aac-d6c0-ea9f1ab847e2"
      },
      "execution_count": 66,
      "outputs": [
        {
          "output_type": "execute_result",
          "data": {
            "text/plain": [
              "[1, 2, 3, 4, 5, '1', '2', '3']"
            ]
          },
          "metadata": {},
          "execution_count": 66
        }
      ]
    },
    {
      "cell_type": "code",
      "source": [
        "a * 2"
      ],
      "metadata": {
        "id": "NE83zIwSrlQJ",
        "colab": {
          "base_uri": "https://localhost:8080/"
        },
        "outputId": "db57a87c-d7fb-4dbe-f94c-e28d2dfc71fb"
      },
      "execution_count": 67,
      "outputs": [
        {
          "output_type": "execute_result",
          "data": {
            "text/plain": [
              "[1, 2, 3, 4, 5, 1, 2, 3, 4, 5]"
            ]
          },
          "metadata": {},
          "execution_count": 67
        }
      ]
    },
    {
      "cell_type": "code",
      "source": [
        " c = b * 2\n",
        " c"
      ],
      "metadata": {
        "id": "O78muYfnrqbK",
        "colab": {
          "base_uri": "https://localhost:8080/"
        },
        "outputId": "656a86d0-b4c5-4134-c184-af9a8c4d91c4"
      },
      "execution_count": 68,
      "outputs": [
        {
          "output_type": "execute_result",
          "data": {
            "text/plain": [
              "['1', '2', '3', '1', '2', '3']"
            ]
          },
          "metadata": {},
          "execution_count": 68
        }
      ]
    },
    {
      "cell_type": "code",
      "source": [
        "c[1] = \"3\""
      ],
      "metadata": {
        "id": "wAWT5ospr3H0"
      },
      "execution_count": 69,
      "outputs": []
    },
    {
      "cell_type": "code",
      "source": [
        "c"
      ],
      "metadata": {
        "id": "k9GCi4t9sHyo",
        "colab": {
          "base_uri": "https://localhost:8080/"
        },
        "outputId": "af83979c-f327-4371-88da-e39135830103"
      },
      "execution_count": 70,
      "outputs": [
        {
          "output_type": "execute_result",
          "data": {
            "text/plain": [
              "['1', '3', '3', '1', '2', '3']"
            ]
          },
          "metadata": {},
          "execution_count": 70
        }
      ]
    },
    {
      "cell_type": "code",
      "source": [
        "b = (\"1\",\"2\",\"3\")"
      ],
      "metadata": {
        "id": "dDlngv31sP9n"
      },
      "execution_count": 71,
      "outputs": []
    },
    {
      "cell_type": "code",
      "source": [
        "b[2]"
      ],
      "metadata": {
        "id": "T3RmMQgNsTAS",
        "colab": {
          "base_uri": "https://localhost:8080/",
          "height": 35
        },
        "outputId": "71665921-f7c4-470e-a907-a5349da3e3c4"
      },
      "execution_count": 72,
      "outputs": [
        {
          "output_type": "execute_result",
          "data": {
            "text/plain": [
              "'3'"
            ],
            "application/vnd.google.colaboratory.intrinsic+json": {
              "type": "string"
            }
          },
          "metadata": {},
          "execution_count": 72
        }
      ]
    },
    {
      "cell_type": "code",
      "source": [
        "b[2] = \"2\""
      ],
      "metadata": {
        "id": "UrKG-ydlsXlm",
        "colab": {
          "base_uri": "https://localhost:8080/",
          "height": 171
        },
        "outputId": "b2fc523f-2a94-4368-8417-c9ffb585e322"
      },
      "execution_count": 74,
      "outputs": [
        {
          "output_type": "error",
          "ename": "TypeError",
          "evalue": "ignored",
          "traceback": [
            "\u001b[0;31m---------------------------------------------------------------------------\u001b[0m",
            "\u001b[0;31mTypeError\u001b[0m                                 Traceback (most recent call last)",
            "\u001b[0;32m<ipython-input-74-75e67b1c0dd8>\u001b[0m in \u001b[0;36m<module>\u001b[0;34m\u001b[0m\n\u001b[0;32m----> 1\u001b[0;31m \u001b[0mb\u001b[0m\u001b[0;34m[\u001b[0m\u001b[0;36m2\u001b[0m\u001b[0;34m]\u001b[0m \u001b[0;34m=\u001b[0m \u001b[0;34m\"2\"\u001b[0m\u001b[0;34m\u001b[0m\u001b[0;34m\u001b[0m\u001b[0m\n\u001b[0m",
            "\u001b[0;31mTypeError\u001b[0m: 'tuple' object does not support item assignment"
          ]
        }
      ]
    },
    {
      "cell_type": "code",
      "source": [
        "len(a)"
      ],
      "metadata": {
        "id": "_o4Tot0GtCsI",
        "colab": {
          "base_uri": "https://localhost:8080/"
        },
        "outputId": "f3e13d79-c7fc-4d91-dd63-623f92fbfbc0"
      },
      "execution_count": 75,
      "outputs": [
        {
          "output_type": "execute_result",
          "data": {
            "text/plain": [
              "5"
            ]
          },
          "metadata": {},
          "execution_count": 75
        }
      ]
    },
    {
      "cell_type": "code",
      "source": [
        "len(b)"
      ],
      "metadata": {
        "id": "A08DHin9tuHF",
        "colab": {
          "base_uri": "https://localhost:8080/"
        },
        "outputId": "3050f73a-aebd-4ef8-bb23-8238313dff9d"
      },
      "execution_count": 76,
      "outputs": [
        {
          "output_type": "execute_result",
          "data": {
            "text/plain": [
              "3"
            ]
          },
          "metadata": {},
          "execution_count": 76
        }
      ]
    },
    {
      "cell_type": "code",
      "source": [
        "a[0:3]"
      ],
      "metadata": {
        "id": "MThROAbjty_-",
        "colab": {
          "base_uri": "https://localhost:8080/"
        },
        "outputId": "cc5fe367-68d4-41fb-f307-59c4ae9ef491"
      },
      "execution_count": 77,
      "outputs": [
        {
          "output_type": "execute_result",
          "data": {
            "text/plain": [
              "[1, 2, 3]"
            ]
          },
          "metadata": {},
          "execution_count": 77
        }
      ]
    },
    {
      "cell_type": "code",
      "source": [
        "del a"
      ],
      "metadata": {
        "id": "zG6EdQrnt6BZ"
      },
      "execution_count": 78,
      "outputs": []
    },
    {
      "cell_type": "code",
      "source": [
        "a"
      ],
      "metadata": {
        "id": "0QqGNSpkt78i",
        "colab": {
          "base_uri": "https://localhost:8080/",
          "height": 171
        },
        "outputId": "c2232527-70ab-4650-b44d-f23cedea317b"
      },
      "execution_count": 79,
      "outputs": [
        {
          "output_type": "error",
          "ename": "NameError",
          "evalue": "ignored",
          "traceback": [
            "\u001b[0;31m---------------------------------------------------------------------------\u001b[0m",
            "\u001b[0;31mNameError\u001b[0m                                 Traceback (most recent call last)",
            "\u001b[0;32m<ipython-input-79-3f786850e387>\u001b[0m in \u001b[0;36m<module>\u001b[0;34m\u001b[0m\n\u001b[0;32m----> 1\u001b[0;31m \u001b[0ma\u001b[0m\u001b[0;34m\u001b[0m\u001b[0;34m\u001b[0m\u001b[0m\n\u001b[0m",
            "\u001b[0;31mNameError\u001b[0m: name 'a' is not defined"
          ]
        }
      ]
    },
    {
      "cell_type": "code",
      "source": [
        "a = [1,2,3,4,5]\n",
        "del a[0]\n",
        "a"
      ],
      "metadata": {
        "id": "W6dwsH8JuA-b",
        "colab": {
          "base_uri": "https://localhost:8080/"
        },
        "outputId": "d0c27038-6ab5-421e-8421-9471b3c7fe7d"
      },
      "execution_count": 80,
      "outputs": [
        {
          "output_type": "execute_result",
          "data": {
            "text/plain": [
              "[2, 3, 4, 5]"
            ]
          },
          "metadata": {},
          "execution_count": 80
        }
      ]
    },
    {
      "cell_type": "code",
      "source": [
        "a = [1,4,3,5,2,6,9,8,7,10]\n",
        "a.append(11)\n",
        "a"
      ],
      "metadata": {
        "id": "24BVaDHmt-lN",
        "colab": {
          "base_uri": "https://localhost:8080/"
        },
        "outputId": "d870e91c-0219-4c13-d01b-8812a2de2ac8"
      },
      "execution_count": 81,
      "outputs": [
        {
          "output_type": "execute_result",
          "data": {
            "text/plain": [
              "[1, 4, 3, 5, 2, 6, 9, 8, 7, 10, 11]"
            ]
          },
          "metadata": {},
          "execution_count": 81
        }
      ]
    },
    {
      "cell_type": "code",
      "source": [
        "a.sort()\n",
        "a"
      ],
      "metadata": {
        "id": "8xuhFwrZzVZB",
        "colab": {
          "base_uri": "https://localhost:8080/"
        },
        "outputId": "a1d1b346-a23b-47ce-f213-74a29ffb8605"
      },
      "execution_count": 82,
      "outputs": [
        {
          "output_type": "execute_result",
          "data": {
            "text/plain": [
              "[1, 2, 3, 4, 5, 6, 7, 8, 9, 10, 11]"
            ]
          },
          "metadata": {},
          "execution_count": 82
        }
      ]
    },
    {
      "cell_type": "code",
      "source": [
        "a.reverse()\n",
        "a"
      ],
      "metadata": {
        "id": "_CfYYP39zf-q",
        "colab": {
          "base_uri": "https://localhost:8080/"
        },
        "outputId": "c7a88570-d42c-4376-b7e7-87197ffc9d95"
      },
      "execution_count": 83,
      "outputs": [
        {
          "output_type": "execute_result",
          "data": {
            "text/plain": [
              "[11, 10, 9, 8, 7, 6, 5, 4, 3, 2, 1]"
            ]
          },
          "metadata": {},
          "execution_count": 83
        }
      ]
    },
    {
      "cell_type": "code",
      "source": [
        "a"
      ],
      "metadata": {
        "id": "P-J2Q4Rgz21l",
        "colab": {
          "base_uri": "https://localhost:8080/"
        },
        "outputId": "b09d4fe3-0835-4ab4-98ca-bab6d8c27d7d"
      },
      "execution_count": 84,
      "outputs": [
        {
          "output_type": "execute_result",
          "data": {
            "text/plain": [
              "[11, 10, 9, 8, 7, 6, 5, 4, 3, 2, 1]"
            ]
          },
          "metadata": {},
          "execution_count": 84
        }
      ]
    },
    {
      "cell_type": "code",
      "source": [
        "a.index(6)"
      ],
      "metadata": {
        "id": "IYZ9rMvjzuvr",
        "colab": {
          "base_uri": "https://localhost:8080/"
        },
        "outputId": "2d61b561-ac61-4ce1-906e-7ba1ebcfe07b"
      },
      "execution_count": 85,
      "outputs": [
        {
          "output_type": "execute_result",
          "data": {
            "text/plain": [
              "5"
            ]
          },
          "metadata": {},
          "execution_count": 85
        }
      ]
    },
    {
      "cell_type": "code",
      "source": [
        "a.index(2)"
      ],
      "metadata": {
        "id": "_26J_igiz-zE",
        "colab": {
          "base_uri": "https://localhost:8080/"
        },
        "outputId": "28825e52-179c-47dc-ec5e-cddfed41598e"
      },
      "execution_count": 86,
      "outputs": [
        {
          "output_type": "execute_result",
          "data": {
            "text/plain": [
              "9"
            ]
          },
          "metadata": {},
          "execution_count": 86
        }
      ]
    },
    {
      "cell_type": "code",
      "source": [
        "a.insert(2, 30)"
      ],
      "metadata": {
        "id": "-x5IPgcw0g3Y"
      },
      "execution_count": 87,
      "outputs": []
    },
    {
      "cell_type": "code",
      "source": [
        "a"
      ],
      "metadata": {
        "id": "V1JywzM90sAb",
        "colab": {
          "base_uri": "https://localhost:8080/"
        },
        "outputId": "26f81a60-d75f-4497-a74e-29b38d0dffa6"
      },
      "execution_count": 88,
      "outputs": [
        {
          "output_type": "execute_result",
          "data": {
            "text/plain": [
              "[11, 10, 30, 9, 8, 7, 6, 5, 4, 3, 2, 1]"
            ]
          },
          "metadata": {},
          "execution_count": 88
        }
      ]
    },
    {
      "cell_type": "code",
      "source": [
        "a.remove(30)"
      ],
      "metadata": {
        "id": "LRBPbh760zNX"
      },
      "execution_count": 89,
      "outputs": []
    },
    {
      "cell_type": "code",
      "source": [
        "a"
      ],
      "metadata": {
        "id": "0t1rrS3V010j",
        "colab": {
          "base_uri": "https://localhost:8080/"
        },
        "outputId": "e22bc86c-2e64-499a-b0fc-32fb13510b7f"
      },
      "execution_count": 90,
      "outputs": [
        {
          "output_type": "execute_result",
          "data": {
            "text/plain": [
              "[11, 10, 9, 8, 7, 6, 5, 4, 3, 2, 1]"
            ]
          },
          "metadata": {},
          "execution_count": 90
        }
      ]
    },
    {
      "cell_type": "code",
      "source": [
        "a.pop()"
      ],
      "metadata": {
        "id": "ekFJeMyM1POC",
        "colab": {
          "base_uri": "https://localhost:8080/"
        },
        "outputId": "ec6a6005-8559-4577-c117-720cef85449c"
      },
      "execution_count": 91,
      "outputs": [
        {
          "output_type": "execute_result",
          "data": {
            "text/plain": [
              "1"
            ]
          },
          "metadata": {},
          "execution_count": 91
        }
      ]
    },
    {
      "cell_type": "code",
      "source": [
        "a.pop()"
      ],
      "metadata": {
        "id": "e6eg4gw91s4A",
        "colab": {
          "base_uri": "https://localhost:8080/"
        },
        "outputId": "61279b7a-ca7b-4dd7-8e4d-217952c8d424"
      },
      "execution_count": 92,
      "outputs": [
        {
          "output_type": "execute_result",
          "data": {
            "text/plain": [
              "2"
            ]
          },
          "metadata": {},
          "execution_count": 92
        }
      ]
    },
    {
      "cell_type": "code",
      "source": [
        "a"
      ],
      "metadata": {
        "id": "FY_yJbcu142I",
        "colab": {
          "base_uri": "https://localhost:8080/"
        },
        "outputId": "056dc708-8cff-4b61-ed97-bd8ed4d8e99f"
      },
      "execution_count": 93,
      "outputs": [
        {
          "output_type": "execute_result",
          "data": {
            "text/plain": [
              "[11, 10, 9, 8, 7, 6, 5, 4, 3]"
            ]
          },
          "metadata": {},
          "execution_count": 93
        }
      ]
    },
    {
      "cell_type": "code",
      "source": [
        "a.count(11)"
      ],
      "metadata": {
        "id": "OrRINiSH1_WO",
        "colab": {
          "base_uri": "https://localhost:8080/"
        },
        "outputId": "5e1c938f-a185-43ff-c22a-7c7c752012dd"
      },
      "execution_count": 94,
      "outputs": [
        {
          "output_type": "execute_result",
          "data": {
            "text/plain": [
              "1"
            ]
          },
          "metadata": {},
          "execution_count": 94
        }
      ]
    },
    {
      "cell_type": "code",
      "source": [
        "a=[1,1,2,3,4,5,5,5,6,6]"
      ],
      "metadata": {
        "id": "73O7Gewy2KjJ"
      },
      "execution_count": 95,
      "outputs": []
    },
    {
      "cell_type": "code",
      "source": [
        "a.count(5)"
      ],
      "metadata": {
        "id": "I9ltnUXP2O4L",
        "colab": {
          "base_uri": "https://localhost:8080/"
        },
        "outputId": "e979db57-e0e2-4888-c888-00cd002d19c2"
      },
      "execution_count": 96,
      "outputs": [
        {
          "output_type": "execute_result",
          "data": {
            "text/plain": [
              "3"
            ]
          },
          "metadata": {},
          "execution_count": 96
        }
      ]
    },
    {
      "cell_type": "code",
      "source": [
        "len(a)"
      ],
      "metadata": {
        "id": "OwzdivHK2Vo8",
        "colab": {
          "base_uri": "https://localhost:8080/"
        },
        "outputId": "e6d16690-2a59-4c8f-f0da-6346124e52ee"
      },
      "execution_count": 97,
      "outputs": [
        {
          "output_type": "execute_result",
          "data": {
            "text/plain": [
              "10"
            ]
          },
          "metadata": {},
          "execution_count": 97
        }
      ]
    },
    {
      "cell_type": "code",
      "source": [
        "import numpy as np"
      ],
      "metadata": {
        "id": "3tfYtQRr2bhM"
      },
      "execution_count": 98,
      "outputs": []
    },
    {
      "cell_type": "code",
      "source": [
        "matrix = [[1,2,3,4],[5,6,7,8],[9,10,11,12]]\n",
        "matrix\n",
        "np.array(matrix, int).shape"
      ],
      "metadata": {
        "id": "knZrxKyU2sog",
        "colab": {
          "base_uri": "https://localhost:8080/"
        },
        "outputId": "04bb9f71-443b-4134-cb0c-91c63eb4f523"
      },
      "execution_count": 99,
      "outputs": [
        {
          "output_type": "execute_result",
          "data": {
            "text/plain": [
              "(3, 4)"
            ]
          },
          "metadata": {},
          "execution_count": 99
        }
      ]
    },
    {
      "cell_type": "code",
      "source": [
        "a = ()"
      ],
      "metadata": {
        "id": "85J5zJRe31I9"
      },
      "execution_count": 100,
      "outputs": []
    },
    {
      "cell_type": "code",
      "source": [
        "b = (1,2,3)"
      ],
      "metadata": {
        "id": "ReuhJ2PN38ge"
      },
      "execution_count": 101,
      "outputs": []
    },
    {
      "cell_type": "code",
      "source": [
        "c = (\"x\", \"y\", \"z\")"
      ],
      "metadata": {
        "id": "fdqoksas3_Rd"
      },
      "execution_count": 102,
      "outputs": []
    },
    {
      "cell_type": "code",
      "source": [
        "d = b+c"
      ],
      "metadata": {
        "id": "fItzWBXG4D8O"
      },
      "execution_count": 103,
      "outputs": []
    },
    {
      "cell_type": "code",
      "source": [
        "d"
      ],
      "metadata": {
        "id": "NKXTnwr14IiH",
        "colab": {
          "base_uri": "https://localhost:8080/"
        },
        "outputId": "29829bee-3276-482f-d03b-c6c22170481e"
      },
      "execution_count": 104,
      "outputs": [
        {
          "output_type": "execute_result",
          "data": {
            "text/plain": [
              "(1, 2, 3, 'x', 'y', 'z')"
            ]
          },
          "metadata": {},
          "execution_count": 104
        }
      ]
    },
    {
      "cell_type": "code",
      "source": [
        "a,b,c = (1,), (2,3), (4,5)"
      ],
      "metadata": {
        "id": "dwpjN-2W4MQ6"
      },
      "execution_count": 105,
      "outputs": []
    },
    {
      "cell_type": "code",
      "source": [
        "print(a)"
      ],
      "metadata": {
        "id": "YH1ov6664SxN",
        "colab": {
          "base_uri": "https://localhost:8080/"
        },
        "outputId": "c4893195-bf67-465c-8a17-40779f8e628a"
      },
      "execution_count": 106,
      "outputs": [
        {
          "output_type": "stream",
          "name": "stdout",
          "text": [
            "(1,)\n"
          ]
        }
      ]
    },
    {
      "cell_type": "code",
      "source": [
        "print(b)"
      ],
      "metadata": {
        "id": "taW15gs44Vq5",
        "colab": {
          "base_uri": "https://localhost:8080/"
        },
        "outputId": "cf25d2ce-4f2b-4962-9423-e44e52205db6"
      },
      "execution_count": 107,
      "outputs": [
        {
          "output_type": "stream",
          "name": "stdout",
          "text": [
            "(2, 3)\n"
          ]
        }
      ]
    },
    {
      "cell_type": "code",
      "source": [
        "print(c)"
      ],
      "metadata": {
        "id": "c4XNmgeU4XEa",
        "colab": {
          "base_uri": "https://localhost:8080/"
        },
        "outputId": "de70d1df-c678-47ae-b979-d0279f90e8f9"
      },
      "execution_count": 108,
      "outputs": [
        {
          "output_type": "stream",
          "name": "stdout",
          "text": [
            "(4, 5)\n"
          ]
        }
      ]
    },
    {
      "cell_type": "code",
      "source": [
        "a = (1,2,3,4)"
      ],
      "metadata": {
        "id": "vjXtUSMt4awX"
      },
      "execution_count": 109,
      "outputs": []
    },
    {
      "cell_type": "code",
      "source": [
        "del a[1]"
      ],
      "metadata": {
        "id": "xtR080Zv4drE",
        "colab": {
          "base_uri": "https://localhost:8080/",
          "height": 171
        },
        "outputId": "cdaf030a-5e19-4d14-c48f-09c39b4f951b"
      },
      "execution_count": 110,
      "outputs": [
        {
          "output_type": "error",
          "ename": "TypeError",
          "evalue": "ignored",
          "traceback": [
            "\u001b[0;31m---------------------------------------------------------------------------\u001b[0m",
            "\u001b[0;31mTypeError\u001b[0m                                 Traceback (most recent call last)",
            "\u001b[0;32m<ipython-input-110-d982d7dc2a95>\u001b[0m in \u001b[0;36m<module>\u001b[0;34m\u001b[0m\n\u001b[0;32m----> 1\u001b[0;31m \u001b[0;32mdel\u001b[0m \u001b[0ma\u001b[0m\u001b[0;34m[\u001b[0m\u001b[0;36m1\u001b[0m\u001b[0;34m]\u001b[0m\u001b[0;34m\u001b[0m\u001b[0;34m\u001b[0m\u001b[0m\n\u001b[0m",
            "\u001b[0;31mTypeError\u001b[0m: 'tuple' object doesn't support item deletion"
          ]
        }
      ]
    },
    {
      "cell_type": "code",
      "source": [
        "a = {\"달러\" : 1400, \"엔화\" : 100}\n",
        "a"
      ],
      "metadata": {
        "id": "F-etXjMc852V",
        "colab": {
          "base_uri": "https://localhost:8080/"
        },
        "outputId": "9019f52b-90f1-44e7-8e1d-03ee4b92e3ed"
      },
      "execution_count": 111,
      "outputs": [
        {
          "output_type": "execute_result",
          "data": {
            "text/plain": [
              "{'달러': 1400, '엔화': 100}"
            ]
          },
          "metadata": {},
          "execution_count": 111
        }
      ]
    },
    {
      "cell_type": "code",
      "source": [
        "a[\"달러\"]"
      ],
      "metadata": {
        "id": "0CKwor2w9Exj",
        "colab": {
          "base_uri": "https://localhost:8080/"
        },
        "outputId": "80c4dda5-9277-4f70-d486-4ece406c04e6"
      },
      "execution_count": 112,
      "outputs": [
        {
          "output_type": "execute_result",
          "data": {
            "text/plain": [
              "1400"
            ]
          },
          "metadata": {},
          "execution_count": 112
        }
      ]
    },
    {
      "cell_type": "code",
      "source": [
        "a[\"위안\"]"
      ],
      "metadata": {
        "id": "Rs4-QL1V9LR9",
        "colab": {
          "base_uri": "https://localhost:8080/",
          "height": 171
        },
        "outputId": "37737873-6dcd-46a3-d2de-628a353244ca"
      },
      "execution_count": 113,
      "outputs": [
        {
          "output_type": "error",
          "ename": "KeyError",
          "evalue": "ignored",
          "traceback": [
            "\u001b[0;31m---------------------------------------------------------------------------\u001b[0m",
            "\u001b[0;31mKeyError\u001b[0m                                  Traceback (most recent call last)",
            "\u001b[0;32m<ipython-input-113-80f034eb8a0a>\u001b[0m in \u001b[0;36m<module>\u001b[0;34m\u001b[0m\n\u001b[0;32m----> 1\u001b[0;31m \u001b[0ma\u001b[0m\u001b[0;34m[\u001b[0m\u001b[0;34m\"위안\"\u001b[0m\u001b[0;34m]\u001b[0m\u001b[0;34m\u001b[0m\u001b[0;34m\u001b[0m\u001b[0m\n\u001b[0m",
            "\u001b[0;31mKeyError\u001b[0m: '위안'"
          ]
        }
      ]
    },
    {
      "cell_type": "code",
      "source": [
        "a[1400]"
      ],
      "metadata": {
        "id": "C3BY0jyL9SHq",
        "colab": {
          "base_uri": "https://localhost:8080/",
          "height": 171
        },
        "outputId": "3c62c9ba-12a2-4740-b03a-a73c33662214"
      },
      "execution_count": 115,
      "outputs": [
        {
          "output_type": "error",
          "ename": "KeyError",
          "evalue": "ignored",
          "traceback": [
            "\u001b[0;31m---------------------------------------------------------------------------\u001b[0m",
            "\u001b[0;31mKeyError\u001b[0m                                  Traceback (most recent call last)",
            "\u001b[0;32m<ipython-input-115-f58277b994c4>\u001b[0m in \u001b[0;36m<module>\u001b[0;34m\u001b[0m\n\u001b[0;32m----> 1\u001b[0;31m \u001b[0ma\u001b[0m\u001b[0;34m[\u001b[0m\u001b[0;36m1400\u001b[0m\u001b[0;34m]\u001b[0m\u001b[0;34m\u001b[0m\u001b[0;34m\u001b[0m\u001b[0m\n\u001b[0m",
            "\u001b[0;31mKeyError\u001b[0m: 1400"
          ]
        }
      ]
    },
    {
      "cell_type": "code",
      "source": [
        "print(a.get(\"달러\"))"
      ],
      "metadata": {
        "id": "BV6CD6r79WRK",
        "colab": {
          "base_uri": "https://localhost:8080/",
          "height": 171
        },
        "outputId": "a73e0bf3-1918-4e25-ed8c-f304ae5e7af5"
      },
      "execution_count": 145,
      "outputs": [
        {
          "output_type": "error",
          "ename": "AttributeError",
          "evalue": "ignored",
          "traceback": [
            "\u001b[0;31m---------------------------------------------------------------------------\u001b[0m",
            "\u001b[0;31mAttributeError\u001b[0m                            Traceback (most recent call last)",
            "\u001b[0;32m<ipython-input-145-2e0d56ad1ba6>\u001b[0m in \u001b[0;36m<module>\u001b[0;34m\u001b[0m\n\u001b[0;32m----> 1\u001b[0;31m \u001b[0mprint\u001b[0m\u001b[0;34m(\u001b[0m\u001b[0ma\u001b[0m\u001b[0;34m.\u001b[0m\u001b[0mget\u001b[0m\u001b[0;34m(\u001b[0m\u001b[0;34m\"달러\"\u001b[0m\u001b[0;34m)\u001b[0m\u001b[0;34m)\u001b[0m\u001b[0;34m\u001b[0m\u001b[0;34m\u001b[0m\u001b[0m\n\u001b[0m",
            "\u001b[0;31mAttributeError\u001b[0m: 'float' object has no attribute 'get'"
          ]
        }
      ]
    },
    {
      "cell_type": "code",
      "source": [
        "a.get(\"위안\", \"그런거 없어\")"
      ],
      "metadata": {
        "id": "_5KnrrTk9jsO",
        "colab": {
          "base_uri": "https://localhost:8080/",
          "height": 171
        },
        "outputId": "85a59c48-5ae5-47b7-aa4b-b7ccbd3c8f8e"
      },
      "execution_count": 146,
      "outputs": [
        {
          "output_type": "error",
          "ename": "AttributeError",
          "evalue": "ignored",
          "traceback": [
            "\u001b[0;31m---------------------------------------------------------------------------\u001b[0m",
            "\u001b[0;31mAttributeError\u001b[0m                            Traceback (most recent call last)",
            "\u001b[0;32m<ipython-input-146-d4289d5f2da7>\u001b[0m in \u001b[0;36m<module>\u001b[0;34m\u001b[0m\n\u001b[0;32m----> 1\u001b[0;31m \u001b[0ma\u001b[0m\u001b[0;34m.\u001b[0m\u001b[0mget\u001b[0m\u001b[0;34m(\u001b[0m\u001b[0;34m\"위안\"\u001b[0m\u001b[0;34m,\u001b[0m \u001b[0;34m\"그런거 없어\"\u001b[0m\u001b[0;34m)\u001b[0m\u001b[0;34m\u001b[0m\u001b[0;34m\u001b[0m\u001b[0m\n\u001b[0m",
            "\u001b[0;31mAttributeError\u001b[0m: 'float' object has no attribute 'get'"
          ]
        }
      ]
    },
    {
      "cell_type": "code",
      "source": [
        "a[\"위안\"] = 300"
      ],
      "metadata": {
        "id": "NsxXqIDy9wer"
      },
      "execution_count": null,
      "outputs": []
    },
    {
      "cell_type": "code",
      "source": [
        "a"
      ],
      "metadata": {
        "id": "sx2LTF1M93Go",
        "colab": {
          "base_uri": "https://localhost:8080/"
        },
        "outputId": "7e4dce4b-8b91-4b35-b46f-4638128f4bea"
      },
      "execution_count": 147,
      "outputs": [
        {
          "output_type": "execute_result",
          "data": {
            "text/plain": [
              "150.5"
            ]
          },
          "metadata": {},
          "execution_count": 147
        }
      ]
    },
    {
      "cell_type": "code",
      "source": [
        "a.get(\"위안\", \"그런거 없어\")"
      ],
      "metadata": {
        "id": "KThfvpOb98ZB",
        "colab": {
          "base_uri": "https://localhost:8080/",
          "height": 171
        },
        "outputId": "f0211bf1-981b-4f6e-b701-4be3202d3182"
      },
      "execution_count": 148,
      "outputs": [
        {
          "output_type": "error",
          "ename": "AttributeError",
          "evalue": "ignored",
          "traceback": [
            "\u001b[0;31m---------------------------------------------------------------------------\u001b[0m",
            "\u001b[0;31mAttributeError\u001b[0m                            Traceback (most recent call last)",
            "\u001b[0;32m<ipython-input-148-d4289d5f2da7>\u001b[0m in \u001b[0;36m<module>\u001b[0;34m\u001b[0m\n\u001b[0;32m----> 1\u001b[0;31m \u001b[0ma\u001b[0m\u001b[0;34m.\u001b[0m\u001b[0mget\u001b[0m\u001b[0;34m(\u001b[0m\u001b[0;34m\"위안\"\u001b[0m\u001b[0;34m,\u001b[0m \u001b[0;34m\"그런거 없어\"\u001b[0m\u001b[0;34m)\u001b[0m\u001b[0;34m\u001b[0m\u001b[0;34m\u001b[0m\u001b[0m\n\u001b[0m",
            "\u001b[0;31mAttributeError\u001b[0m: 'float' object has no attribute 'get'"
          ]
        }
      ]
    },
    {
      "cell_type": "code",
      "source": [
        "del a[\"엔화\"]"
      ],
      "metadata": {
        "id": "pk6j0D809_hI"
      },
      "execution_count": null,
      "outputs": []
    },
    {
      "cell_type": "code",
      "source": [
        "a"
      ],
      "metadata": {
        "id": "gBwvNO3E-IkU",
        "colab": {
          "base_uri": "https://localhost:8080/"
        },
        "outputId": "7136e016-5dde-4842-fb9c-7291a01f7b53"
      },
      "execution_count": 149,
      "outputs": [
        {
          "output_type": "execute_result",
          "data": {
            "text/plain": [
              "150.5"
            ]
          },
          "metadata": {},
          "execution_count": 149
        }
      ]
    },
    {
      "cell_type": "code",
      "source": [
        "a = {'달러': 1400, '위안': 300, '위안': 320}"
      ],
      "metadata": {
        "id": "1C-8hEEv-PeN"
      },
      "execution_count": 150,
      "outputs": []
    },
    {
      "cell_type": "code",
      "source": [
        "a[\"달러\"] = 1500"
      ],
      "metadata": {
        "id": "mYAuK0U8-bpk"
      },
      "execution_count": 151,
      "outputs": []
    },
    {
      "cell_type": "code",
      "source": [
        "a"
      ],
      "metadata": {
        "id": "mGwiBu7J-nMs",
        "colab": {
          "base_uri": "https://localhost:8080/"
        },
        "outputId": "f9144014-2771-493d-9c8c-b49d16de3f86"
      },
      "execution_count": 152,
      "outputs": [
        {
          "output_type": "execute_result",
          "data": {
            "text/plain": [
              "{'달러': 1500, '위안': 320}"
            ]
          },
          "metadata": {},
          "execution_count": 152
        }
      ]
    },
    {
      "cell_type": "code",
      "source": [
        "a.keys()"
      ],
      "metadata": {
        "id": "QHoexyWl-r4J",
        "colab": {
          "base_uri": "https://localhost:8080/"
        },
        "outputId": "535f4fc8-c585-40a8-8e7f-46d287e99180"
      },
      "execution_count": 153,
      "outputs": [
        {
          "output_type": "execute_result",
          "data": {
            "text/plain": [
              "dict_keys(['달러', '위안'])"
            ]
          },
          "metadata": {},
          "execution_count": 153
        }
      ]
    },
    {
      "cell_type": "code",
      "source": [
        "a.values()"
      ],
      "metadata": {
        "id": "8B6j0IlM-00q",
        "colab": {
          "base_uri": "https://localhost:8080/"
        },
        "outputId": "afac6e9f-357c-4bed-efe2-84567413d879"
      },
      "execution_count": 154,
      "outputs": [
        {
          "output_type": "execute_result",
          "data": {
            "text/plain": [
              "dict_values([1500, 320])"
            ]
          },
          "metadata": {},
          "execution_count": 154
        }
      ]
    },
    {
      "cell_type": "code",
      "source": [
        "a = \"statistics\"\n",
        "s = set(a)\n",
        "s"
      ],
      "metadata": {
        "id": "l6ilXEiB_FV6",
        "colab": {
          "base_uri": "https://localhost:8080/"
        },
        "outputId": "fab88c15-1290-4759-9288-fec4f6644c95"
      },
      "execution_count": 155,
      "outputs": [
        {
          "output_type": "execute_result",
          "data": {
            "text/plain": [
              "{'a', 'c', 'i', 's', 't'}"
            ]
          },
          "metadata": {},
          "execution_count": 155
        }
      ]
    },
    {
      "cell_type": "code",
      "source": [
        "com = [\"사원\", \"대리\", \"과장\", \"팀장\", \"대리\", \"과장\"]"
      ],
      "metadata": {
        "id": "fULheNnG_WoM"
      },
      "execution_count": 156,
      "outputs": []
    },
    {
      "cell_type": "code",
      "source": [
        "s_com = set(com)"
      ],
      "metadata": {
        "id": "0QDskHKI_i7V"
      },
      "execution_count": 157,
      "outputs": []
    },
    {
      "cell_type": "code",
      "source": [
        "  s_com"
      ],
      "metadata": {
        "id": "MLHa40fT_mb1",
        "colab": {
          "base_uri": "https://localhost:8080/"
        },
        "outputId": "933ae5ee-8a51-4b28-ed68-3c8b4e14fd27"
      },
      "execution_count": 158,
      "outputs": [
        {
          "output_type": "execute_result",
          "data": {
            "text/plain": [
              "{'과장', '대리', '사원', '팀장'}"
            ]
          },
          "metadata": {},
          "execution_count": 158
        }
      ]
    },
    {
      "cell_type": "code",
      "source": [
        "a = set([1,2,3]) \n",
        "b = set([2,3,4]) "
      ],
      "metadata": {
        "id": "9snph2p8_0Gk"
      },
      "execution_count": 159,
      "outputs": []
    },
    {
      "cell_type": "code",
      "source": [
        "a"
      ],
      "metadata": {
        "id": "qLh7V22K__fv",
        "colab": {
          "base_uri": "https://localhost:8080/"
        },
        "outputId": "b1f2377f-32d9-43a8-8da9-a77958e16b23"
      },
      "execution_count": 160,
      "outputs": [
        {
          "output_type": "execute_result",
          "data": {
            "text/plain": [
              "{1, 2, 3}"
            ]
          },
          "metadata": {},
          "execution_count": 160
        }
      ]
    },
    {
      "cell_type": "code",
      "source": [
        "b"
      ],
      "metadata": {
        "id": "4--hRrEhABBW",
        "colab": {
          "base_uri": "https://localhost:8080/"
        },
        "outputId": "d6d01e0f-c26e-4396-eb13-30169c02335e"
      },
      "execution_count": 161,
      "outputs": [
        {
          "output_type": "execute_result",
          "data": {
            "text/plain": [
              "{2, 3, 4}"
            ]
          },
          "metadata": {},
          "execution_count": 161
        }
      ]
    },
    {
      "cell_type": "code",
      "source": [
        "a & b"
      ],
      "metadata": {
        "id": "4JckgC_oABUo",
        "colab": {
          "base_uri": "https://localhost:8080/"
        },
        "outputId": "dfd6f458-2e8a-40e8-a916-1e620acf554f"
      },
      "execution_count": 162,
      "outputs": [
        {
          "output_type": "execute_result",
          "data": {
            "text/plain": [
              "{2, 3}"
            ]
          },
          "metadata": {},
          "execution_count": 162
        }
      ]
    },
    {
      "cell_type": "code",
      "source": [
        "a | b"
      ],
      "metadata": {
        "id": "ZteRQ1DHAIQH",
        "colab": {
          "base_uri": "https://localhost:8080/"
        },
        "outputId": "b0df7338-4952-42a2-c98f-db230f8e57fd"
      },
      "execution_count": 163,
      "outputs": [
        {
          "output_type": "execute_result",
          "data": {
            "text/plain": [
              "{1, 2, 3, 4}"
            ]
          },
          "metadata": {},
          "execution_count": 163
        }
      ]
    },
    {
      "cell_type": "code",
      "source": [
        "a - b"
      ],
      "metadata": {
        "id": "sb9vtgeJARdc",
        "colab": {
          "base_uri": "https://localhost:8080/"
        },
        "outputId": "5a7af98e-6c69-4b12-b83c-f346fa088229"
      },
      "execution_count": 164,
      "outputs": [
        {
          "output_type": "execute_result",
          "data": {
            "text/plain": [
              "{1}"
            ]
          },
          "metadata": {},
          "execution_count": 164
        }
      ]
    },
    {
      "cell_type": "code",
      "source": [
        "a.update([5,6,7])"
      ],
      "metadata": {
        "id": "DoqNrNbnAWH8"
      },
      "execution_count": 165,
      "outputs": []
    },
    {
      "cell_type": "code",
      "source": [
        "a.remove(3)"
      ],
      "metadata": {
        "id": "TLrV-0I7AcyY"
      },
      "execution_count": 166,
      "outputs": []
    },
    {
      "cell_type": "code",
      "source": [
        "a.remove(5)"
      ],
      "metadata": {
        "id": "eGMR0TWoAqmr"
      },
      "execution_count": 167,
      "outputs": []
    },
    {
      "cell_type": "code",
      "source": [
        "a.remove(7)"
      ],
      "metadata": {
        "id": "OTeDEmhgAyln"
      },
      "execution_count": 168,
      "outputs": []
    },
    {
      "cell_type": "code",
      "source": [
        "a = 150.50\n",
        "b = 200.50\n",
        "c = 250"
      ],
      "metadata": {
        "id": "MnVJZRMlA3CI"
      },
      "execution_count": 169,
      "outputs": []
    },
    {
      "cell_type": "code",
      "source": [
        "b = round(b,1)"
      ],
      "metadata": {
        "id": "3VSPJAXaFqnm"
      },
      "execution_count": 170,
      "outputs": []
    },
    {
      "cell_type": "code",
      "source": [
        "print(\"사과 1개의 가격은 %d원 입니다.\" %a)"
      ],
      "metadata": {
        "id": "vbeVubORBGKd",
        "colab": {
          "base_uri": "https://localhost:8080/"
        },
        "outputId": "ed96a6d4-dfc2-4404-c2f6-87d2fc7e182f"
      },
      "execution_count": 171,
      "outputs": [
        {
          "output_type": "stream",
          "name": "stdout",
          "text": [
            "사과 1개의 가격은 150원 입니다.\n"
          ]
        }
      ]
    },
    {
      "cell_type": "code",
      "source": [
        "print(\"사과 2개의 가격은 %4.1f원 입니다.\" %b)"
      ],
      "metadata": {
        "colab": {
          "base_uri": "https://localhost:8080/"
        },
        "id": "JXJAB0UXBYQ7",
        "outputId": "b89957af-292d-4447-ce88-7c65cd773c97"
      },
      "execution_count": 220,
      "outputs": [
        {
          "output_type": "stream",
          "name": "stdout",
          "text": [
            "사과 2개의 가격은 200.5원 입니다.\n"
          ]
        }
      ]
    },
    {
      "cell_type": "code",
      "source": [
        "print(\"사과 3개의 가격은 %d원 입니다.\" %c)"
      ],
      "metadata": {
        "id": "pgaDqs8gBa2g",
        "colab": {
          "base_uri": "https://localhost:8080/"
        },
        "outputId": "bf28c9fb-8e98-4956-d4c1-babf6988be90"
      },
      "execution_count": 173,
      "outputs": [
        {
          "output_type": "stream",
          "name": "stdout",
          "text": [
            "사과 3개의 가격은 250원 입니다.\n"
          ]
        }
      ]
    },
    {
      "cell_type": "code",
      "source": [
        "d = \"유한별\"\n",
        "print(\"%s 고객님, 안녕하세요\" %d)\n",
        "print(\"사과 1개의 가격은 %d원 입니다.\" %a)"
      ],
      "metadata": {
        "colab": {
          "base_uri": "https://localhost:8080/"
        },
        "id": "bmtBmF-DCmMI",
        "outputId": "5c1743b0-cbed-4373-bcd4-8a9f34dfb21b"
      },
      "execution_count": 174,
      "outputs": [
        {
          "output_type": "stream",
          "name": "stdout",
          "text": [
            "유한별 고객님, 안녕하세요\n",
            "사과 1개의 가격은 150원 입니다.\n"
          ]
        }
      ]
    },
    {
      "cell_type": "markdown",
      "source": [
        "조건문"
      ],
      "metadata": {
        "id": "H8osOLHWWDR2"
      }
    },
    {
      "cell_type": "code",
      "source": [
        "#if\n",
        "\n",
        "1 < 2"
      ],
      "metadata": {
        "colab": {
          "base_uri": "https://localhost:8080/"
        },
        "id": "g0dV79mBUxRs",
        "outputId": "4448b444-0aa9-43cd-9f6e-df2ff01d1713"
      },
      "execution_count": 175,
      "outputs": [
        {
          "output_type": "execute_result",
          "data": {
            "text/plain": [
              "True"
            ]
          },
          "metadata": {},
          "execution_count": 175
        }
      ]
    },
    {
      "cell_type": "code",
      "source": [
        "1 > 2"
      ],
      "metadata": {
        "colab": {
          "base_uri": "https://localhost:8080/"
        },
        "id": "9pcnDlQMWl5e",
        "outputId": "309ab298-076f-4352-bee0-a69bb1465999"
      },
      "execution_count": 176,
      "outputs": [
        {
          "output_type": "execute_result",
          "data": {
            "text/plain": [
              "False"
            ]
          },
          "metadata": {},
          "execution_count": 176
        }
      ]
    },
    {
      "cell_type": "code",
      "source": [
        "1 <= 2"
      ],
      "metadata": {
        "colab": {
          "base_uri": "https://localhost:8080/"
        },
        "id": "KvUHZ7S5WpYN",
        "outputId": "b0f9d9d5-6372-409a-c63d-e7586986eb78"
      },
      "execution_count": 177,
      "outputs": [
        {
          "output_type": "execute_result",
          "data": {
            "text/plain": [
              "True"
            ]
          },
          "metadata": {},
          "execution_count": 177
        }
      ]
    },
    {
      "cell_type": "code",
      "source": [
        "1 <= 1"
      ],
      "metadata": {
        "colab": {
          "base_uri": "https://localhost:8080/"
        },
        "id": "h4LPK0GvWsm4",
        "outputId": "b6d2720d-a805-41e0-e4dd-f7d991934c21"
      },
      "execution_count": 178,
      "outputs": [
        {
          "output_type": "execute_result",
          "data": {
            "text/plain": [
              "True"
            ]
          },
          "metadata": {},
          "execution_count": 178
        }
      ]
    },
    {
      "cell_type": "code",
      "source": [
        "1 and 0\n",
        "# 1 & 0"
      ],
      "metadata": {
        "colab": {
          "base_uri": "https://localhost:8080/"
        },
        "id": "8MO2JQ9JWuRh",
        "outputId": "0bdc9487-c25e-4127-ac11-024d34efdaaf"
      },
      "execution_count": 183,
      "outputs": [
        {
          "output_type": "execute_result",
          "data": {
            "text/plain": [
              "0"
            ]
          },
          "metadata": {},
          "execution_count": 183
        }
      ]
    },
    {
      "cell_type": "code",
      "source": [
        "1 or 0\n",
        "# 1 | 0 "
      ],
      "metadata": {
        "colab": {
          "base_uri": "https://localhost:8080/"
        },
        "id": "L9rKyC51W0yy",
        "outputId": "85a61068-9824-46b5-a089-6e3a36a92cd6"
      },
      "execution_count": 182,
      "outputs": [
        {
          "output_type": "execute_result",
          "data": {
            "text/plain": [
              "1"
            ]
          },
          "metadata": {},
          "execution_count": 182
        }
      ]
    },
    {
      "cell_type": "code",
      "source": [
        "not 1"
      ],
      "metadata": {
        "colab": {
          "base_uri": "https://localhost:8080/"
        },
        "id": "BdAExXrqXAQ-",
        "outputId": "c453e9f9-dcec-4b24-bab2-9eea14f85ac9"
      },
      "execution_count": 184,
      "outputs": [
        {
          "output_type": "execute_result",
          "data": {
            "text/plain": [
              "False"
            ]
          },
          "metadata": {},
          "execution_count": 184
        }
      ]
    },
    {
      "cell_type": "code",
      "source": [
        "not 0"
      ],
      "metadata": {
        "colab": {
          "base_uri": "https://localhost:8080/"
        },
        "id": "7jQY8OuAXHTz",
        "outputId": "98f3f5f6-6340-4bbe-8e3c-3c49aa6993af"
      },
      "execution_count": 185,
      "outputs": [
        {
          "output_type": "execute_result",
          "data": {
            "text/plain": [
              "True"
            ]
          },
          "metadata": {},
          "execution_count": 185
        }
      ]
    },
    {
      "cell_type": "code",
      "source": [
        "\"a\" in \"abc\""
      ],
      "metadata": {
        "colab": {
          "base_uri": "https://localhost:8080/"
        },
        "id": "QG6kDwurXPjn",
        "outputId": "a5bb19f4-f492-46da-e1de-37ed39cccbc0"
      },
      "execution_count": 186,
      "outputs": [
        {
          "output_type": "execute_result",
          "data": {
            "text/plain": [
              "True"
            ]
          },
          "metadata": {},
          "execution_count": 186
        }
      ]
    },
    {
      "cell_type": "code",
      "source": [
        "\"a\" in \"bc\""
      ],
      "metadata": {
        "colab": {
          "base_uri": "https://localhost:8080/"
        },
        "id": "4Gv8BZvJXbx9",
        "outputId": "a678b039-a144-417b-b5fd-3492c5484468"
      },
      "execution_count": 187,
      "outputs": [
        {
          "output_type": "execute_result",
          "data": {
            "text/plain": [
              "False"
            ]
          },
          "metadata": {},
          "execution_count": 187
        }
      ]
    },
    {
      "cell_type": "code",
      "source": [
        "1 not in [0,2,3,4]"
      ],
      "metadata": {
        "colab": {
          "base_uri": "https://localhost:8080/"
        },
        "id": "8EpmpN5gXiNr",
        "outputId": "7b0b64e9-63fe-4816-be9f-4acc98702b4c"
      },
      "execution_count": 190,
      "outputs": [
        {
          "output_type": "execute_result",
          "data": {
            "text/plain": [
              "True"
            ]
          },
          "metadata": {},
          "execution_count": 190
        }
      ]
    },
    {
      "cell_type": "code",
      "source": [
        "score = 60\n",
        "\n",
        "if score > 90:\n",
        "    print(\"A\")\n",
        "else :\n",
        "    print(\"B\")"
      ],
      "metadata": {
        "colab": {
          "base_uri": "https://localhost:8080/"
        },
        "id": "FtYTOa9BX2xF",
        "outputId": "63878bab-af44-4b55-d300-b22fdcb9d6a5"
      },
      "execution_count": 197,
      "outputs": [
        {
          "output_type": "stream",
          "name": "stdout",
          "text": [
            "B\n"
          ]
        }
      ]
    },
    {
      "cell_type": "code",
      "source": [
        "score = 60\n",
        "\n",
        "if score > 90:\n",
        "    print(\"A\")\n",
        "else :\n",
        "    if score > 80 :\n",
        "        print(\"B\")\n",
        "    else :\n",
        "        if score > 70 :\n",
        "            print(\"C\")\n",
        "        else :\n",
        "            if score > 60 :\n",
        "                print(\"D\")\n",
        "            else :\n",
        "                print(\"F\")"
      ],
      "metadata": {
        "colab": {
          "base_uri": "https://localhost:8080/"
        },
        "id": "NFdpls3ZYrUq",
        "outputId": "4827393c-023f-4c9e-886a-33e15236c594"
      },
      "execution_count": 195,
      "outputs": [
        {
          "output_type": "stream",
          "name": "stdout",
          "text": [
            "F\n"
          ]
        }
      ]
    },
    {
      "cell_type": "code",
      "source": [
        "score = 75\n",
        "\n",
        "if score > 90:\n",
        "    print(\"A\")\n",
        "elif score > 80 :\n",
        "     print(\"B\")\n",
        "elif score > 70 :\n",
        "     print(\"C\")\n",
        "elif score > 60 :\n",
        "     print(\"D\")\n",
        "else :\n",
        "     print(\"F\")"
      ],
      "metadata": {
        "colab": {
          "base_uri": "https://localhost:8080/"
        },
        "id": "2LxuM-rqaG7z",
        "outputId": "dda5e822-de05-4441-e526-c2770b382827"
      },
      "execution_count": 198,
      "outputs": [
        {
          "output_type": "stream",
          "name": "stdout",
          "text": [
            "C\n"
          ]
        }
      ]
    },
    {
      "cell_type": "code",
      "source": [
        "1/0"
      ],
      "metadata": {
        "colab": {
          "base_uri": "https://localhost:8080/",
          "height": 171
        },
        "id": "tY31ljTBbbOs",
        "outputId": "68790567-5804-4364-87c0-1db52d6324da"
      },
      "execution_count": 199,
      "outputs": [
        {
          "output_type": "error",
          "ename": "ZeroDivisionError",
          "evalue": "ignored",
          "traceback": [
            "\u001b[0;31m---------------------------------------------------------------------------\u001b[0m",
            "\u001b[0;31mZeroDivisionError\u001b[0m                         Traceback (most recent call last)",
            "\u001b[0;32m<ipython-input-199-9e1622b385b6>\u001b[0m in \u001b[0;36m<module>\u001b[0;34m\u001b[0m\n\u001b[0;32m----> 1\u001b[0;31m \u001b[0;36m1\u001b[0m\u001b[0;34m/\u001b[0m\u001b[0;36m0\u001b[0m\u001b[0;34m\u001b[0m\u001b[0;34m\u001b[0m\u001b[0m\n\u001b[0m",
            "\u001b[0;31mZeroDivisionError\u001b[0m: division by zero"
          ]
        }
      ]
    },
    {
      "cell_type": "code",
      "source": [
        "try : \n",
        "    1/3\n",
        "except :\n",
        "    print(\"분모가 0이 나왔음\")\n",
        "else :\n",
        "    print(\"분모 이상없음\")"
      ],
      "metadata": {
        "colab": {
          "base_uri": "https://localhost:8080/"
        },
        "id": "sxKMiOvabjs5",
        "outputId": "80ff200e-0f36-46c0-bc2b-cdbfb01d9811"
      },
      "execution_count": 201,
      "outputs": [
        {
          "output_type": "stream",
          "name": "stdout",
          "text": [
            "분모 이상없음\n"
          ]
        }
      ]
    },
    {
      "cell_type": "markdown",
      "source": [
        "반복문"
      ],
      "metadata": {
        "id": "4IxETYIQcxhJ"
      }
    },
    {
      "cell_type": "code",
      "source": [
        "#while, for"
      ],
      "metadata": {
        "id": "YYrtXE1OcxU_"
      },
      "execution_count": null,
      "outputs": []
    },
    {
      "cell_type": "code",
      "source": [
        "i = 0\n",
        "while i < 10 :\n",
        "    i+=1\n",
        "    print(i)"
      ],
      "metadata": {
        "colab": {
          "base_uri": "https://localhost:8080/"
        },
        "id": "Qkb1CuXKcv9q",
        "outputId": "c87ece5d-eedb-434c-a5f7-e9f460fd3a07"
      },
      "execution_count": 202,
      "outputs": [
        {
          "output_type": "stream",
          "name": "stdout",
          "text": [
            "1\n",
            "2\n",
            "3\n",
            "4\n",
            "5\n",
            "6\n",
            "7\n",
            "8\n",
            "9\n",
            "10\n"
          ]
        }
      ]
    },
    {
      "cell_type": "code",
      "source": [
        "for i in range(10) :\n",
        "    print(i)"
      ],
      "metadata": {
        "id": "9-ig6t7_eHzt"
      },
      "execution_count": null,
      "outputs": []
    },
    {
      "cell_type": "code",
      "source": [
        "j = 0\n",
        "for i in range(10) :\n",
        "    j += i\n",
        "    print(j)"
      ],
      "metadata": {
        "colab": {
          "base_uri": "https://localhost:8080/"
        },
        "id": "BiSzSAPudHw2",
        "outputId": "c430d977-65fd-424f-e1c7-b6ec9f511887"
      },
      "execution_count": 205,
      "outputs": [
        {
          "output_type": "stream",
          "name": "stdout",
          "text": [
            "0\n",
            "1\n",
            "3\n",
            "6\n",
            "10\n",
            "15\n",
            "21\n",
            "28\n",
            "36\n",
            "45\n"
          ]
        }
      ]
    },
    {
      "cell_type": "code",
      "source": [
        "for i in range(5, 10, 2) :\n",
        "    print(i, end = \" \")"
      ],
      "metadata": {
        "colab": {
          "base_uri": "https://localhost:8080/"
        },
        "id": "eanhWM5JfSMx",
        "outputId": "a69888e5-93dc-4ace-b943-9e79cd0e6c68"
      },
      "execution_count": 207,
      "outputs": [
        {
          "output_type": "stream",
          "name": "stdout",
          "text": [
            "5 7 9 "
          ]
        }
      ]
    },
    {
      "cell_type": "code",
      "source": [
        "def div_3(a) :\n",
        "    out = a/3\n",
        "    return out"
      ],
      "metadata": {
        "id": "_PG7FgZpfwQy"
      },
      "execution_count": 211,
      "outputs": []
    },
    {
      "cell_type": "code",
      "source": [
        "div_3(30)"
      ],
      "metadata": {
        "colab": {
          "base_uri": "https://localhost:8080/"
        },
        "id": "5Av0x1ATgCaa",
        "outputId": "664e26f0-b170-4564-dcaf-d369aa8409ca"
      },
      "execution_count": 212,
      "outputs": [
        {
          "output_type": "execute_result",
          "data": {
            "text/plain": [
              "10.0"
            ]
          },
          "metadata": {},
          "execution_count": 212
        }
      ]
    }
  ]
}